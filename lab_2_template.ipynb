{
  "nbformat": 4,
  "nbformat_minor": 0,
  "metadata": {
    "colab": {
      "provenance": []
    },
    "kernelspec": {
      "name": "python3",
      "display_name": "Python 3"
    },
    "language_info": {
      "name": "python"
    }
  },
  "cells": [
    {
      "cell_type": "markdown",
      "source": [
        "Section 1: Solve this problem using what you know!\n",
        "\n",
        "Resources: \n",
        "  - check if string x is in string y: https://www.afternerd.com/blog/python-string-contains/\n",
        "  - tuple indexing: https://www.tutorialspoint.com/python/python_tuples.htm"
      ],
      "metadata": {
        "id": "AlWcLdTKnq0X"
      }
    },
    {
      "cell_type": "code",
      "execution_count": null,
      "metadata": {
        "id": "5iEMf8isf2mw"
      },
      "outputs": [],
      "source": [
        "# Goal: FILTER this list to ONLY the tweets that contain the string \"@realDonaldTrump\"\n",
        "tweets = [\n",
        " (1, \"this_is_alex\", \"I wonder what @realDonaldTrump thinks about this\"),\n",
        " (151, \"motivational_quotes\", \"inspirational quote for the day: love trumps hate\"),\n",
        " (41, \"i_heart_president_trump\", \"Thank you @realDonaldTrump for your amazing service to this country!!!\"),\n",
        " (14, \"bobby\", \"si507 is awesome\")\n",
        "]\n",
        "  "
      ]
    },
    {
      "cell_type": "code",
      "source": [
        "# output: new list!\n",
        "new_list = []\n",
        "\n",
        "# TODO: Implement"
      ],
      "metadata": {
        "id": "0mOEjTtVnpjP"
      },
      "execution_count": null,
      "outputs": []
    },
    {
      "cell_type": "code",
      "source": [
        "for elem in new_list:\n",
        "  print(elem)"
      ],
      "metadata": {
        "id": "_7pqJs8kFjyl"
      },
      "execution_count": null,
      "outputs": []
    },
    {
      "cell_type": "markdown",
      "source": [
        "Section 2: Solve this problem using the filter() function!\n",
        "\n",
        "Resources:\n",
        " - filter() syntax: https://www.w3schools.com/python/ref_func_filter.asp"
      ],
      "metadata": {
        "id": "qjCd5djKnwGD"
      }
    },
    {
      "cell_type": "code",
      "source": [
        "# Goal: FILTER this list to ONLY the tweets that contain the string \"@realDonaldTrump\"\n",
        "tweets = [\n",
        " (1, \"this_is_alex\", \"I wonder what @realDonaldTrump thinks about this\"),\n",
        " (151, \"motivational_quotes\", \"inspirational quote for the day: love trumps hate\"),\n",
        " (41, \"i_heart_president_trump\", \"Thank you @realDonaldTrump for your amazing service to this country!!!\"),\n",
        " (14, \"bobby\", \"si507 is awesome\")\n",
        "]\n"
      ],
      "metadata": {
        "id": "ZtmIkLydoCwU"
      },
      "execution_count": null,
      "outputs": []
    },
    {
      "cell_type": "code",
      "source": [
        "# Decide if an element should stay in the list or not\n",
        "\n",
        "# Input: x is an element in the list\n",
        "# Output: True if element should stay, False otherwise\n",
        "def fun(x):\n",
        "  # TODO: Implement\n",
        "  return False\n",
        "\n"
      ],
      "metadata": {
        "id": "NfOig3zrn19F"
      },
      "execution_count": null,
      "outputs": []
    },
    {
      "cell_type": "code",
      "source": [
        "new_list = filter(fun, tweets)"
      ],
      "metadata": {
        "id": "GbP_rTtPn9XD"
      },
      "execution_count": null,
      "outputs": []
    },
    {
      "cell_type": "code",
      "source": [
        "for elem in new_list:\n",
        "  print(elem)"
      ],
      "metadata": {
        "id": "N0l5P41ioH7S"
      },
      "execution_count": null,
      "outputs": []
    },
    {
      "cell_type": "code",
      "source": [],
      "metadata": {
        "id": "_UiYtJ5FoJhX"
      },
      "execution_count": null,
      "outputs": []
    },
    {
      "cell_type": "markdown",
      "source": [
        "Section 3: Implement using lambda functions\n",
        "\n",
        "Resources\n",
        " - lambda function syntax: https://holypython.com/intermediate-python-lessons/lesson-11-python-lambda/\n",
        "\n",
        "---\n",
        "\n"
      ],
      "metadata": {
        "id": "hRWA6M8zoLRp"
      }
    },
    {
      "cell_type": "code",
      "source": [
        "# Goal: FILTER this list to ONLY the tweets that contain the string \"@realDonaldTrump\"\n",
        "tweets = [\n",
        " (1, \"this_is_alex\", \"I wonder what @realDonaldTrump thinks about this\"),\n",
        " (151, \"motivational_quotes\", \"inspirational quote for the day: love trumps hate\"),\n",
        " (41, \"i_heart_president_trump\", \"Thank you @realDonaldTrump for your amazing service to this country!!!\"),\n",
        " (14, \"bobby\", \"si507 is awesome\")\n",
        "]"
      ],
      "metadata": {
        "id": "MmLv56xcoWO7"
      },
      "execution_count": null,
      "outputs": []
    },
    {
      "cell_type": "code",
      "source": [
        "# TODO: Implement the lambda function\n",
        "new_tweets = filter(lambda tweet: False, tweets)"
      ],
      "metadata": {
        "id": "FqS73g62yecs"
      },
      "execution_count": null,
      "outputs": []
    },
    {
      "cell_type": "code",
      "source": [
        "for i in new_tweets:\n",
        "  print(i)"
      ],
      "metadata": {
        "id": "GH8owMgsGCHe"
      },
      "execution_count": null,
      "outputs": []
    },
    {
      "cell_type": "code",
      "source": [],
      "metadata": {
        "id": "nd4LQLy0GDZZ"
      },
      "execution_count": null,
      "outputs": []
    }
  ]
}